{
 "cells": [
  {
   "cell_type": "code",
   "execution_count": 49,
   "metadata": {},
   "outputs": [],
   "source": [
    "from dotenv import load_dotenv\n",
    "import io\n",
    "import base64\n",
    "import re\n",
    "import google.generativeai as genai\n",
    "from PIL import Image\n",
    "import gradio as gr\n",
    "import os"
   ]
  },
  {
   "cell_type": "code",
   "execution_count": 50,
   "metadata": {},
   "outputs": [],
   "source": [
    "load_dotenv()\n",
    "GEMINI_API_KEY = os.getenv(\"GEMINI_API_KEY\")\n",
    "if not GEMINI_API_KEY:\n",
    "    raise ValueError(\"GEMINI_API_KEY not found in .env file\")\n",
    "genai.configure(api_key=GEMINI_API_KEY)\n"
   ]
  },
  {
   "cell_type": "code",
   "execution_count": 51,
   "metadata": {},
   "outputs": [],
   "source": [
    "def image_to_base64(image_pil):\n",
    "    \"\"\"Converts a PIL image to a base64 encoded string.\"\"\"\n",
    "    buffered = io.BytesIO()\n",
    "    image_pil.save(buffered, format=\"JPEG\")\n",
    "    return base64.b64encode(buffered.getvalue()).decode(\"utf-8\")\n",
    "\n",
    "\n",
    "def extract_code_blocks(text):\n",
    "    \"\"\"Extracts HTML and CSS code blocks from markdown-formatted text.\"\"\"\n",
    "    html_pattern = r'```html\\s*(.*?)```'\n",
    "    css_pattern = r'```css\\s*(.*?)```'\n",
    "    \n",
    "    html_match = re.search(html_pattern, text, re.DOTALL)\n",
    "    css_match = re.search(css_pattern, text, re.DOTALL)\n",
    "    \n",
    "    html_code = html_match.group(1).strip() if html_match else \"\"\n",
    "    css_code = css_match.group(1).strip() if css_match else \"\"\n",
    "    \n",
    "    # If no separate CSS block, check if CSS is embedded in HTML\n",
    "    if not css_code and '<style>' in html_code:\n",
    "        style_match = re.search(r'<style>(.*?)</style>', html_code, re.DOTALL)\n",
    "        if style_match:\n",
    "            css_code = style_match.group(1).strip()\n",
    "    \n",
    "    return html_code, css_code"
   ]
  },
  {
   "cell_type": "code",
   "execution_count": 52,
   "metadata": {},
   "outputs": [],
   "source": [
    "def combine_css(html_content, css_content, css_filename=\"style.css\"):\n",
    "    \n",
    "    link_tag = '<link rel=\"stylesheet\" href=\"style.css\">'\n",
    "    if link_tag not in html_content and not css_content:\n",
    "        return html_content\n",
    "    style_block = f\"<style>\\n{css_content}\\n</style>\"\n",
    "    # Replace the <link> tag with the <style> block.\n",
    "    modified_html = html_content.replace(link_tag, style_block, 1)\n",
    "\n",
    "    return modified_html"
   ]
  },
  {
   "cell_type": "code",
   "execution_count": 53,
   "metadata": {},
   "outputs": [],
   "source": [
    "def process_images(template_image, img1, img2, img3, img4, img5):\n",
    "    \"\"\"Processes the template and user images to generate HTML and CSS code.\"\"\"\n",
    "    if template_image is None:\n",
    "        return \"Please upload a template image.\", \"\", \"\", \"\"\n",
    "\n",
    "    try:\n",
    "        prompt = \"\"\"Analyze the following template image and generate clean, semantic HTML and CSS code that replicates its structure and design.\n",
    "\n",
    "Requirements:\n",
    "- Generate modern, responsive HTML5 code\n",
    "- Create clean CSS with appropriate styling\n",
    "- Use placeholder images with src=\"placeholder1.jpg\", \"placeholder2.jpg\", etc.\n",
    "- Make the layout responsive\n",
    "- Include all necessary HTML structure (doctype, html, head, body tags)\n",
    "- Put CSS in a separate code block\n",
    "- Link the CSS file in the HTML head with <link rel=\"stylesheet\" href=\"style.css\">\n",
    "\n",
    "Format your response with:\n",
    "```html\n",
    "[HTML code here]\n",
    "```\n",
    "\n",
    "```css\n",
    "[CSS code here]\n",
    "```\n",
    "\"\"\"\n",
    "\n",
    "        model = genai.GenerativeModel('gemini-2.5-flash')\n",
    "        response = model.generate_content([prompt, template_image])\n",
    "        \n",
    "        generated_text = response.text\n",
    "        html_code, css_code = extract_code_blocks(generated_text)\n",
    "\n",
    "        if not html_code:\n",
    "            return \"Failed to generate HTML code. Please try again.\", generated_text, \"\", \"\"\n",
    "\n",
    "        # Replace placeholder images with user images\n",
    "        processed_html = html_code\n",
    "        user_images = [img1, img2, img3, img4, img5]\n",
    "        \n",
    "        for i, user_image in enumerate(user_images, start=1):\n",
    "            if user_image is not None:\n",
    "                #base64_image = image_to_base64(Image.open(user_image))\n",
    "                base64_image = image_to_base64(user_image)\n",
    "                data_uri = f'data:image/jpeg;base64,{base64_image}'\n",
    "                \n",
    "                # Replace various placeholder patterns\n",
    "                processed_html = re.sub(f'src=\"placeholder{i}.jpg\"', f'src=\"{data_uri}\"', processed_html)\n",
    "                processed_html = re.sub(f'src=\"placeholder-{i}.jpg\"', f'src=\"{data_uri}\"', processed_html)\n",
    "                processed_html = re.sub(f'src=\"image{i}.jpg\"', f'src=\"{data_uri}\"', processed_html)\n",
    "                \n",
    "                # Replace first placeholder.com for first image\n",
    "                if i == 1:\n",
    "                    processed_html = re.sub(\n",
    "                        r'src=\"https://via\\.placeholder\\.com/[^\"]*\"',\n",
    "                        f'src=\"{data_uri}\"',\n",
    "                        processed_html,\n",
    "                        count=1\n",
    "                    )\n",
    "\n",
    "        # Combine HTML and CSS for rendering\n",
    "        #rendered_html = f\"<style>{css_code}</style>{processed_html}\"\n",
    "        rendered_html = combine_css(processed_html, css_code)\n",
    "\n",
    "        return \"Code generated successfully!\", processed_html, css_code, rendered_html\n",
    "\n",
    "    except Exception as e:\n",
    "        return f\"An error occurred: {str(e)}\", \"\", \"\", \"\""
   ]
  },
  {
   "cell_type": "code",
   "execution_count": 54,
   "metadata": {},
   "outputs": [
    {
     "name": "stdout",
     "output_type": "stream",
     "text": [
      "Running on local URL:  http://127.0.0.1:7866\n",
      "IMPORTANT: You are using gradio version 3.50.2, however version 4.44.1 is available, please upgrade.\n",
      "--------\n",
      "Running on public URL: https://944b408afce8ff58e7.gradio.live\n",
      "\n",
      "This share link expires in 72 hours. For free permanent hosting and GPU upgrades, run `gradio deploy` from Terminal to deploy to Spaces (https://huggingface.co/spaces)\n"
     ]
    },
    {
     "data": {
      "text/html": [
       "<div><iframe src=\"https://944b408afce8ff58e7.gradio.live\" width=\"100%\" height=\"500\" allow=\"autoplay; camera; microphone; clipboard-read; clipboard-write;\" frameborder=\"0\" allowfullscreen></iframe></div>"
      ],
      "text/plain": [
       "<IPython.core.display.HTML object>"
      ]
     },
     "metadata": {},
     "output_type": "display_data"
    },
    {
     "data": {
      "text/plain": []
     },
     "execution_count": 54,
     "metadata": {},
     "output_type": "execute_result"
    }
   ],
   "source": [
    "iface = gr.Interface(\n",
    "    fn=process_images,\n",
    "    inputs=[\n",
    "        gr.Image(type=\"pil\", label=\"Template Image\"),\n",
    "        gr.Image(type=\"pil\", label=\"User Image 1 (Optional)\"),\n",
    "        gr.Image(type=\"pil\", label=\"User Image 2 (Optional)\"),\n",
    "        gr.Image(type=\"pil\", label=\"User Image 3 (Optional)\"),\n",
    "        gr.Image(type=\"pil\", label=\"User Image 4 (Optional)\"),\n",
    "        gr.Image(type=\"pil\", label=\"User Image 5 (Optional)\")\n",
    "    ],\n",
    "    outputs=[\n",
    "        gr.Textbox(label=\"Status\"),\n",
    "        gr.Code(label=\"HTML Code\", language=\"html\"),\n",
    "        gr.Code(label=\"CSS Code\", language=\"css\"),\n",
    "        gr.HTML(label=\"Preview\")\n",
    "    ],\n",
    "    title=\"🎨 Image to HTML/CSS Converter\",\n",
    "    description=\"Upload a template image (screenshot, mockup, or design) and optionally up to 5 images to replace placeholders.\\n\\n\",\n",
    "    allow_flagging=\"never\"\n",
    ")\n",
    "\n",
    "iface.launch(share=True)"
   ]
  },
  {
   "cell_type": "code",
   "execution_count": 55,
   "metadata": {},
   "outputs": [
    {
     "name": "stdout",
     "output_type": "stream",
     "text": [
      "Available models:\n",
      "  - models/gemini-2.5-pro-preview-03-25\n",
      "  - models/gemini-2.5-flash-preview-05-20\n",
      "  - models/gemini-2.5-flash\n",
      "  - models/gemini-2.5-flash-lite-preview-06-17\n",
      "  - models/gemini-2.5-pro-preview-05-06\n",
      "  - models/gemini-2.5-pro-preview-06-05\n",
      "  - models/gemini-2.5-pro\n",
      "  - models/gemini-2.0-flash-exp\n",
      "  - models/gemini-2.0-flash\n",
      "  - models/gemini-2.0-flash-001\n",
      "  - models/gemini-2.0-flash-lite-001\n",
      "  - models/gemini-2.0-flash-lite\n",
      "  - models/gemini-2.0-flash-lite-preview-02-05\n",
      "  - models/gemini-2.0-flash-lite-preview\n",
      "  - models/gemini-2.0-pro-exp\n",
      "  - models/gemini-2.0-pro-exp-02-05\n",
      "  - models/gemini-exp-1206\n",
      "  - models/gemini-2.0-flash-thinking-exp-01-21\n",
      "  - models/gemini-2.0-flash-thinking-exp\n",
      "  - models/gemini-2.0-flash-thinking-exp-1219\n",
      "  - models/gemini-2.5-flash-preview-tts\n",
      "  - models/gemini-2.5-pro-preview-tts\n",
      "  - models/learnlm-2.0-flash-experimental\n",
      "  - models/gemma-3-1b-it\n",
      "  - models/gemma-3-4b-it\n",
      "  - models/gemma-3-12b-it\n",
      "  - models/gemma-3-27b-it\n",
      "  - models/gemma-3n-e4b-it\n",
      "  - models/gemma-3n-e2b-it\n",
      "  - models/gemini-flash-latest\n",
      "  - models/gemini-flash-lite-latest\n",
      "  - models/gemini-pro-latest\n",
      "  - models/gemini-2.5-flash-lite\n",
      "  - models/gemini-2.5-flash-image-preview\n",
      "  - models/gemini-2.5-flash-image\n",
      "  - models/gemini-2.5-flash-preview-09-2025\n",
      "  - models/gemini-2.5-flash-lite-preview-09-2025\n",
      "  - models/gemini-robotics-er-1.5-preview\n"
     ]
    }
   ],
   "source": [
    "print(\"Available models:\")\n",
    "for model in genai.list_models():\n",
    "    if 'generateContent' in model.supported_generation_methods:\n",
    "        print(f\"  - {model.name}\")"
   ]
  },
  {
   "cell_type": "code",
   "execution_count": null,
   "metadata": {},
   "outputs": [],
   "source": []
  }
 ],
 "metadata": {
  "kernelspec": {
   "display_name": "agent",
   "language": "python",
   "name": "python3"
  },
  "language_info": {
   "codemirror_mode": {
    "name": "ipython",
    "version": 3
   },
   "file_extension": ".py",
   "mimetype": "text/x-python",
   "name": "python",
   "nbconvert_exporter": "python",
   "pygments_lexer": "ipython3",
   "version": "3.9.23"
  }
 },
 "nbformat": 4,
 "nbformat_minor": 2
}
